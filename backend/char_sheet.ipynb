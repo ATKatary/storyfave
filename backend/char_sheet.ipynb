{
 "cells": [
  {
   "cell_type": "code",
   "execution_count": null,
   "metadata": {},
   "outputs": [],
   "source": [
    "from utils import *\n",
    "from torch.utils.data import DataLoader\n",
    "from IPython.display import clear_output\n",
    "from backend.api.viewer import MultiViewer\n",
    "from backend.api.dataset import ImageDataset\n",
    "clear_output()"
   ]
  },
  {
   "cell_type": "code",
   "execution_count": null,
   "metadata": {},
   "outputs": [],
   "source": [
    "BATCH_SIZE = 1\n",
    "\n",
    "IMG_DIR_PATH = f\"{BASE_DIR}/laura/out\"\n",
    "\n",
    "dataset = ImageDataset(IMG_DIR_PATH)\n",
    "data_loader = DataLoader(dataset, batch_size=BATCH_SIZE, shuffle=False)"
   ]
  },
  {
   "cell_type": "code",
   "execution_count": null,
   "metadata": {},
   "outputs": [],
   "source": [
    "multi_viewer = MultiViewer()\n",
    "clear_output()"
   ]
  },
  {
   "cell_type": "code",
   "execution_count": null,
   "metadata": {},
   "outputs": [],
   "source": [
    "char_sheet = multi_viewer(dataset[0])\n",
    "clear_output()"
   ]
  },
  {
   "cell_type": "code",
   "execution_count": null,
   "metadata": {},
   "outputs": [],
   "source": [
    "display([\n",
    "    {\n",
    "      \"img\": char_sheet,\n",
    "      \"label\": \"\",\n",
    "    }\n",
    "], 1)"
   ]
  }
 ],
 "metadata": {
  "language_info": {
   "name": "python"
  }
 },
 "nbformat": 4,
 "nbformat_minor": 2
}
