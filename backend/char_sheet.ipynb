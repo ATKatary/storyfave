{
 "cells": [
  {
   "cell_type": "markdown",
   "metadata": {},
   "source": [
    "# Charachter Sheet"
   ]
  },
  {
   "cell_type": "code",
   "execution_count": null,
   "metadata": {},
   "outputs": [],
   "source": [
    "import numpy as np\n",
    "from rembg import remove\n",
    "from utils import *\n",
    "from api.dataset import ImageDataset\n",
    "from torch.utils.data import DataLoader\n",
    "from IPython.display import clear_output\n",
    "from api.viewer import MultiViewer, split_char_sheet\n",
    "clear_output()"
   ]
  },
  {
   "cell_type": "markdown",
   "metadata": {},
   "source": [
    "### Dataset"
   ]
  },
  {
   "cell_type": "code",
   "execution_count": null,
   "metadata": {},
   "outputs": [],
   "source": [
    "IMG_DIR_PATH = f\"{BASE_DIR}/laura/out\"\n",
    "\n",
    "dataset = ImageDataset(IMG_DIR_PATH)"
   ]
  },
  {
   "cell_type": "markdown",
   "metadata": {},
   "source": [
    "### Generation"
   ]
  },
  {
   "cell_type": "code",
   "execution_count": null,
   "metadata": {},
   "outputs": [],
   "source": [
    "multi_viewer = MultiViewer()\n",
    "multi_viewer.to(\"cuda\")\n",
    "clear_output()"
   ]
  },
  {
   "cell_type": "code",
   "execution_count": null,
   "metadata": {},
   "outputs": [],
   "source": [
    "i = 0\n",
    "char_sheet = multi_viewer(dataset[i], num_inference_steps=75)\n",
    "clear_output()"
   ]
  },
  {
   "cell_type": "code",
   "execution_count": null,
   "metadata": {},
   "outputs": [],
   "source": [
    "display([\n",
    "    {\n",
    "      \"img\": img,\n",
    "      \"label\": f\"\",\n",
    "    }\n",
    "    for img in split_char_sheet(char_sheet)\n",
    "], 1, w=7, h=7)"
   ]
  }
 ],
 "metadata": {
  "language_info": {
   "name": "python"
  }
 },
 "nbformat": 4,
 "nbformat_minor": 2
}
